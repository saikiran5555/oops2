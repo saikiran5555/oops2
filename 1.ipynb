{
 "cells": [
  {
   "cell_type": "markdown",
   "id": "45546386",
   "metadata": {},
   "source": [
    "Abstraction is a fundamental concept in object-oriented programming (OOP) that focuses on representing the essential features and behavior of an object or system while hiding unnecessary details. It involves creating abstract classes and interfaces that provide a simplified and generalized representation of objects, allowing the users to interact with them without needing to know the underlying implementation.\n",
    "\n",
    "Abstraction helps in managing complexity by breaking down a system into smaller, more manageable components and allowing the users to work with high-level concepts rather than dealing with low-level details. It promotes code modularity, reusability, and maintainability by encapsulating the complexity and providing a clean interface for interaction.\n",
    "\n",
    "In Python, abstraction can be achieved through abstract classes and interfaces. An abstract class is a class that cannot be instantiated and is meant to be subclassed. It can contain both abstract and concrete methods. An abstract method is a method declared in the abstract class but does not have an implementation. Subclasses of the abstract class are required to provide implementations for the abstract methods."
   ]
  },
  {
   "cell_type": "code",
   "execution_count": 1,
   "id": "1ad27a80",
   "metadata": {},
   "outputs": [
    {
     "name": "stdout",
     "output_type": "stream",
     "text": [
      "78.5\n",
      "31.400000000000002\n",
      "24\n",
      "20\n"
     ]
    }
   ],
   "source": [
    "from abc import ABC, abstractmethod\n",
    "\n",
    "class Shape(ABC):\n",
    "    @abstractmethod\n",
    "    def area(self):\n",
    "        pass\n",
    "\n",
    "    @abstractmethod\n",
    "    def perimeter(self):\n",
    "        pass\n",
    "\n",
    "class Circle(Shape):\n",
    "    def __init__(self, radius):\n",
    "        self.radius = radius\n",
    "\n",
    "    def area(self):\n",
    "        return 3.14 * self.radius ** 2\n",
    "\n",
    "    def perimeter(self):\n",
    "        return 2 * 3.14 * self.radius\n",
    "\n",
    "class Rectangle(Shape):\n",
    "    def __init__(self, length, width):\n",
    "        self.length = length\n",
    "        self.width = width\n",
    "\n",
    "    def area(self):\n",
    "        return self.length * self.width\n",
    "\n",
    "    def perimeter(self):\n",
    "        return 2 * (self.length + self.width)\n",
    "\n",
    "# Create objects of the subclasses\n",
    "circle = Circle(5)\n",
    "rectangle = Rectangle(4, 6)\n",
    "\n",
    "# Access the abstract methods through the objects\n",
    "print(circle.area())      \n",
    "print(circle.perimeter()) \n",
    "print(rectangle.area())      \n",
    "print(rectangle.perimeter()) \n"
   ]
  },
  {
   "cell_type": "code",
   "execution_count": null,
   "id": "cb75e107",
   "metadata": {},
   "outputs": [],
   "source": []
  }
 ],
 "metadata": {
  "kernelspec": {
   "display_name": "Python 3 (ipykernel)",
   "language": "python",
   "name": "python3"
  },
  "language_info": {
   "codemirror_mode": {
    "name": "ipython",
    "version": 3
   },
   "file_extension": ".py",
   "mimetype": "text/x-python",
   "name": "python",
   "nbconvert_exporter": "python",
   "pygments_lexer": "ipython3",
   "version": "3.10.9"
  }
 },
 "nbformat": 4,
 "nbformat_minor": 5
}
