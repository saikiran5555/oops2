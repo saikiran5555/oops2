{
 "cells": [
  {
   "cell_type": "markdown",
   "id": "77566be2",
   "metadata": {},
   "source": [
    "No, you cannot create an instance of an abstract class in Python. Abstract classes are meant to be used as base classes for other classes to inherit from and provide concrete implementations for the abstract methods defined in the abstract class.\n",
    "\n",
    "An abstract class is a class that cannot be instantiated on its own because it contains one or more abstract methods, which are declared but do not have an implementation in the abstract class. Abstract methods serve as placeholders for methods that must be implemented in the derived classes.\n",
    "\n",
    "When you define an abstract class using the ABC (Abstract Base Class) metaclass and @abstractmethod decorator, it indicates that the class is abstract and cannot be instantiated. If you try to create an instance of an abstract class directly, it will raise a TypeError."
   ]
  },
  {
   "cell_type": "code",
   "execution_count": 1,
   "id": "38c1cdb2",
   "metadata": {},
   "outputs": [],
   "source": [
    "from abc import ABC, abstractmethod\n",
    "\n",
    "class AbstractClass(ABC):\n",
    "    @abstractmethod\n",
    "    def abstract_method(self):\n",
    "        pass\n",
    "\n",
    "# Trying to create an instance of the abstract class will raise a TypeError\n",
    "# obj = AbstractClass()  # Raises TypeError: Can't instantiate abstract class AbstractClass with abstract methods abstract_method\n"
   ]
  },
  {
   "cell_type": "code",
   "execution_count": 2,
   "id": "a0205eaa",
   "metadata": {},
   "outputs": [
    {
     "name": "stdout",
     "output_type": "stream",
     "text": [
      "Concrete method implementation\n"
     ]
    }
   ],
   "source": [
    "class ConcreteClass(AbstractClass):\n",
    "    def abstract_method(self):\n",
    "        print(\"Concrete method implementation\")\n",
    "\n",
    "obj = ConcreteClass()  # Creating an instance of the derived class is allowed\n",
    "obj.abstract_method()  # Output: Concrete method implementation\n"
   ]
  },
  {
   "cell_type": "code",
   "execution_count": null,
   "id": "90ab1f2d",
   "metadata": {},
   "outputs": [],
   "source": []
  }
 ],
 "metadata": {
  "kernelspec": {
   "display_name": "Python 3 (ipykernel)",
   "language": "python",
   "name": "python3"
  },
  "language_info": {
   "codemirror_mode": {
    "name": "ipython",
    "version": 3
   },
   "file_extension": ".py",
   "mimetype": "text/x-python",
   "name": "python",
   "nbconvert_exporter": "python",
   "pygments_lexer": "ipython3",
   "version": "3.10.9"
  }
 },
 "nbformat": 4,
 "nbformat_minor": 5
}
