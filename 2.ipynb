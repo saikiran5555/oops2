{
 "cells": [
  {
   "cell_type": "markdown",
   "id": "8298d359",
   "metadata": {},
   "source": [
    "Abstraction and encapsulation are two important concepts in object-oriented programming (OOP) that promote code organization, modularity, and information hiding. While they are related, they have distinct purposes and serve different aspects of software development.\n",
    "\n",
    "Abstraction:\n",
    "Abstraction focuses on representing the essential features and behavior of an object or system while hiding unnecessary details. It provides a simplified and generalized view of objects, allowing users to interact with them at a higher level of abstraction without needing to know the internal implementation.\n",
    "\n",
    "Example:\n",
    "Consider a car. From an abstract perspective, a car is a mode of transportation that has features like moving, accelerating, and braking. We don't need to know the intricate details of the car's engine, transmission, or fuel injection system to use it. The car abstracts away the complexity and provides a high-level interface for interaction.\n",
    "\n",
    "Encapsulation:\n",
    "Encapsulation involves bundling data and methods that operate on that data into a single entity called a class. It aims to protect the data from external interference and manipulation by enforcing access restrictions. Encapsulation allows for information hiding, where the internal implementation details are kept private and only accessible through well-defined interfaces.\n",
    "\n",
    "Example:\n",
    "Let's take an example of a BankAccount class. The class may have private attributes like account number, balance, and transaction history. These attributes are encapsulated within the class, meaning they cannot be directly accessed or modified from outside the class. Instead, the class provides public methods like deposit, withdraw, and get_balance, which encapsulate the necessary logic to interact with the account's data. The internal details of how the balance is calculated or how the transactions are recorded are hidden from the external code."
   ]
  },
  {
   "cell_type": "code",
   "execution_count": 1,
   "id": "09e108ab",
   "metadata": {},
   "outputs": [
    {
     "name": "stdout",
     "output_type": "stream",
     "text": [
      "Rectangle Area: 20\n",
      "Rectangle Perimeter: 18\n",
      "Account Balance: 1300\n",
      "Transaction History: ['Deposit: 500', 'Withdrawal: 200']\n"
     ]
    }
   ],
   "source": [
    "# Abstraction\n",
    "class Shape:\n",
    "    def calculate_area(self):\n",
    "        pass\n",
    "\n",
    "    def calculate_perimeter(self):\n",
    "        pass\n",
    "\n",
    "class Rectangle(Shape):\n",
    "    def __init__(self, width, height):\n",
    "        self.width = width\n",
    "        self.height = height\n",
    "\n",
    "    def calculate_area(self):\n",
    "        return self.width * self.height\n",
    "\n",
    "    def calculate_perimeter(self):\n",
    "        return 2 * (self.width + self.height)\n",
    "\n",
    "\n",
    "# Encapsulation\n",
    "class BankAccount:\n",
    "    def __init__(self, account_number, initial_balance):\n",
    "        self._account_number = account_number\n",
    "        self._balance = initial_balance\n",
    "        self._transaction_history = []\n",
    "\n",
    "    def deposit(self, amount):\n",
    "        self._balance += amount\n",
    "        self._transaction_history.append(f\"Deposit: {amount}\")\n",
    "\n",
    "    def withdraw(self, amount):\n",
    "        if self._balance >= amount:\n",
    "            self._balance -= amount\n",
    "            self._transaction_history.append(f\"Withdrawal: {amount}\")\n",
    "        else:\n",
    "            print(\"Insufficient funds!\")\n",
    "\n",
    "    def get_balance(self):\n",
    "        return self._balance\n",
    "\n",
    "    def get_transaction_history(self):\n",
    "        return self._transaction_history\n",
    "\n",
    "\n",
    "# Abstraction example\n",
    "rectangle = Rectangle(4, 5)\n",
    "area = rectangle.calculate_area()\n",
    "perimeter = rectangle.calculate_perimeter()\n",
    "print(f\"Rectangle Area: {area}\")         \n",
    "print(f\"Rectangle Perimeter: {perimeter}\") \n",
    "\n",
    "\n",
    "# Encapsulation example\n",
    "account = BankAccount(\"1234567890\", 1000)\n",
    "account.deposit(500)\n",
    "account.withdraw(200)\n",
    "balance = account.get_balance()\n",
    "transaction_history = account.get_transaction_history()\n",
    "print(f\"Account Balance: {balance}\")           \n",
    "print(f\"Transaction History: {transaction_history}\") \n"
   ]
  },
  {
   "cell_type": "code",
   "execution_count": null,
   "id": "25b62a5f",
   "metadata": {},
   "outputs": [],
   "source": []
  }
 ],
 "metadata": {
  "kernelspec": {
   "display_name": "Python 3 (ipykernel)",
   "language": "python",
   "name": "python3"
  },
  "language_info": {
   "codemirror_mode": {
    "name": "ipython",
    "version": 3
   },
   "file_extension": ".py",
   "mimetype": "text/x-python",
   "name": "python",
   "nbconvert_exporter": "python",
   "pygments_lexer": "ipython3",
   "version": "3.10.9"
  }
 },
 "nbformat": 4,
 "nbformat_minor": 5
}
