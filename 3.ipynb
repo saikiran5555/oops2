{
 "cells": [
  {
   "cell_type": "markdown",
   "id": "9c104260",
   "metadata": {},
   "source": [
    "The abc module in Python stands for \"Abstract Base Classes\". It provides infrastructure for defining abstract base classes, which are classes that cannot be instantiated directly but serve as a template for other classes to inherit from.\n",
    "\n",
    "The abc module is used to define and work with abstract base classes in Python. Abstract base classes provide a way to define common interfaces, enforce method implementation in subclasses, and establish a hierarchy of related classes. They promote code organization, modularity, and type checking.\n",
    "\n",
    "The abc module is commonly used in scenarios where you want to define a common interface for a group of related classes or enforce certain behaviors across subclasses. It helps in creating well-structured and maintainable code by promoting code reuse, modularity, and clarity of class hierarchies."
   ]
  },
  {
   "cell_type": "code",
   "execution_count": 1,
   "id": "ebfe2c90",
   "metadata": {},
   "outputs": [
    {
     "name": "stdout",
     "output_type": "stream",
     "text": [
      "20\n",
      "28.26\n",
      "True\n",
      "True\n"
     ]
    }
   ],
   "source": [
    "from abc import ABC, abstractmethod\n",
    "\n",
    "class Shape(ABC):\n",
    "    @abstractmethod\n",
    "    def calculate_area(self):\n",
    "        pass\n",
    "\n",
    "class Rectangle(Shape):\n",
    "    def __init__(self, width, height):\n",
    "        self.width = width\n",
    "        self.height = height\n",
    "\n",
    "    def calculate_area(self):\n",
    "        return self.width * self.height\n",
    "\n",
    "class Circle(Shape):\n",
    "    def __init__(self, radius):\n",
    "        self.radius = radius\n",
    "\n",
    "    def calculate_area(self):\n",
    "        return 3.14 * self.radius ** 2\n",
    "\n",
    "# Trying to instantiate the abstract base class directly will raise an error\n",
    "# shape = Shape()  # Raises TypeError: Can't instantiate abstract class Shape...\n",
    "\n",
    "# Create objects of the concrete subclasses\n",
    "rectangle = Rectangle(4, 5)\n",
    "circle = Circle(3)\n",
    "\n",
    "# Call the common method on the objects\n",
    "print(rectangle.calculate_area())  \n",
    "print(circle.calculate_area())    \n",
    "\n",
    "# Type checking using isinstance()\n",
    "print(isinstance(rectangle, Shape)) \n",
    "print(isinstance(circle, Shape))   \n"
   ]
  },
  {
   "cell_type": "code",
   "execution_count": null,
   "id": "83f47f9c",
   "metadata": {},
   "outputs": [],
   "source": []
  }
 ],
 "metadata": {
  "kernelspec": {
   "display_name": "Python 3 (ipykernel)",
   "language": "python",
   "name": "python3"
  },
  "language_info": {
   "codemirror_mode": {
    "name": "ipython",
    "version": 3
   },
   "file_extension": ".py",
   "mimetype": "text/x-python",
   "name": "python",
   "nbconvert_exporter": "python",
   "pygments_lexer": "ipython3",
   "version": "3.10.9"
  }
 },
 "nbformat": 4,
 "nbformat_minor": 5
}
