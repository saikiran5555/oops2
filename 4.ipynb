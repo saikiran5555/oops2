{
 "cells": [
  {
   "cell_type": "markdown",
   "id": "92581417",
   "metadata": {},
   "source": [
    "In Python, data abstraction can be achieved through the use of classes, where you can define abstract data types and hide the implementation details from the user. Here are some techniques to achieve data abstraction:\n",
    "\n",
    "Encapsulation:\n",
    "Encapsulation involves bundling data and the methods that operate on that data into a single entity called a class. It allows you to define the interface for interacting with the data, hiding the internal implementation details. By encapsulating data, you can control access to it and enforce data integrity.\n",
    "\n",
    "Access Modifiers:\n",
    "Python does not have built-in access modifiers like some other programming languages (e.g., private, protected, public). However, you can use naming conventions to indicate the intended visibility of attributes and methods. Prefixing an attribute or method name with a single underscore (_) suggests that it is intended to be treated as internal or private to the class. It indicates to other developers that they should not access or modify it directly.\n",
    "\n",
    "Getter and Setter Methods:\n",
    "Getter and setter methods provide controlled access to attributes of an object. Instead of directly accessing or modifying an attribute, you can define methods that retrieve or modify the attribute value. This allows you to add additional logic or perform validation checks when accessing or updating the data."
   ]
  },
  {
   "cell_type": "code",
   "execution_count": 2,
   "id": "2f2241f7",
   "metadata": {},
   "outputs": [],
   "source": [
    "class BankAccount:\n",
    "    def __init__(self, account_number, initial_balance):\n",
    "        self._account_number = account_number\n",
    "        self._balance = initial_balance\n",
    "\n",
    "    def get_account_number(self):\n",
    "        return self._account_number\n",
    "\n",
    "    def get_balance(self):\n",
    "        return self._balance\n",
    "\n",
    "    def deposit(self, amount):\n",
    "        self._balance += amount\n",
    "\n",
    "    def withdraw(self, amount):\n",
    "        if self._balance >= amount:\n",
    "            self._balance -= amount\n",
    "        else:\n",
    "            print(\"Insufficient funds!\")\n"
   ]
  },
  {
   "cell_type": "code",
   "execution_count": null,
   "id": "b5e50fc5",
   "metadata": {},
   "outputs": [],
   "source": []
  }
 ],
 "metadata": {
  "kernelspec": {
   "display_name": "Python 3 (ipykernel)",
   "language": "python",
   "name": "python3"
  },
  "language_info": {
   "codemirror_mode": {
    "name": "ipython",
    "version": 3
   },
   "file_extension": ".py",
   "mimetype": "text/x-python",
   "name": "python",
   "nbconvert_exporter": "python",
   "pygments_lexer": "ipython3",
   "version": "3.10.9"
  }
 },
 "nbformat": 4,
 "nbformat_minor": 5
}
